{
 "metadata": {
  "language_info": {
   "codemirror_mode": {
    "name": "ipython",
    "version": 3
   },
   "file_extension": ".py",
   "mimetype": "text/x-python",
   "name": "python",
   "nbconvert_exporter": "python",
   "pygments_lexer": "ipython3",
   "version": "3.8.5-final"
  },
  "orig_nbformat": 2,
  "kernelspec": {
   "name": "python3",
   "display_name": "Python 3",
   "language": "python"
  }
 },
 "nbformat": 4,
 "nbformat_minor": 2,
 "cells": [
  {
   "cell_type": "code",
   "execution_count": 2,
   "metadata": {},
   "outputs": [
    {
     "output_type": "error",
     "ename": "ModuleNotFoundError",
     "evalue": "No module named 'cremerlab'",
     "traceback": [
      "\u001b[0;31m---------------------------------------------------------------------------\u001b[0m",
      "\u001b[0;31mModuleNotFoundError\u001b[0m                       Traceback (most recent call last)",
      "\u001b[0;32m<ipython-input-2-48cc0e6cf988>\u001b[0m in \u001b[0;36m<module>\u001b[0;34m\u001b[0m\n\u001b[1;32m      5\u001b[0m \u001b[0;32mimport\u001b[0m \u001b[0maltair\u001b[0m \u001b[0;32mas\u001b[0m \u001b[0malt\u001b[0m\u001b[0;34m\u001b[0m\u001b[0;34m\u001b[0m\u001b[0m\n\u001b[1;32m      6\u001b[0m \u001b[0;32mimport\u001b[0m \u001b[0mimp\u001b[0m\u001b[0;34m\u001b[0m\u001b[0;34m\u001b[0m\u001b[0m\n\u001b[0;32m----> 7\u001b[0;31m \u001b[0;32mimport\u001b[0m \u001b[0mcremerlab\u001b[0m\u001b[0;34m.\u001b[0m\u001b[0mhplc\u001b[0m\u001b[0;34m\u001b[0m\u001b[0;34m\u001b[0m\u001b[0m\n\u001b[0m\u001b[1;32m      8\u001b[0m \u001b[0mimp\u001b[0m\u001b[0;34m.\u001b[0m\u001b[0mreload\u001b[0m\u001b[0;34m(\u001b[0m\u001b[0mcremerlab\u001b[0m\u001b[0;34m.\u001b[0m\u001b[0mhplc\u001b[0m\u001b[0;34m)\u001b[0m\u001b[0;34m\u001b[0m\u001b[0;34m\u001b[0m\u001b[0m\n\u001b[1;32m      9\u001b[0m \u001b[0;32mfrom\u001b[0m \u001b[0mio\u001b[0m \u001b[0;32mimport\u001b[0m \u001b[0mStringIO\u001b[0m\u001b[0;34m\u001b[0m\u001b[0;34m\u001b[0m\u001b[0m\n",
      "\u001b[0;31mModuleNotFoundError\u001b[0m: No module named 'cremerlab'"
     ]
    }
   ],
   "source": [
    "import numpy as np \n",
    "import pandas as pd \n",
    "import os \n",
    "import glob \n",
    "import altair as alt\n",
    "import imp\n",
    "import cremerlab.hplc\n",
    "imp.reload(cremerlab.hplc)\n",
    "from io import StringIO\n"
   ]
  },
  {
   "cell_type": "code",
   "execution_count": 15,
   "metadata": {},
   "outputs": [],
   "source": [
    "# Read in the files. \n",
    "files = glob.glob('../exploratory_data/*.txt')\n",
    "\n",
    "# Read the first file\n",
    "with open(files[0], 'r') as f:\n",
    "    raw_file = f.read()\n",
    "\n",
    "# Split to get the file information"
   ]
  },
  {
   "cell_type": "code",
   "execution_count": 34,
   "metadata": {},
   "outputs": [],
   "source": [
    "def scrape_metadata(file, delimiter=','):\n",
    "    \"\"\"\n",
    "    Scrapes the sample information from the output of a Shimadzu HPLC ASCII \n",
    "    file and returns a dictionary of the metadata entries. \n",
    "\n",
    "    Parameters\n",
    "    ----------\n",
    "    file : str \n",
    "        The contents of the file as a string with newline characters (`\\n`) present. \n",
    "    delimiter: str \n",
    "        The delimeter used in the file. If  tab-delimited, use `\\t`.\n",
    "    Returns\n",
    "    -------\n",
    "    metadata_dict : dictionary\n",
    "        A dictionary of the metadata listed under the 'Sample Information', excluding \n",
    "        ISTD Amounts.\n",
    "\n",
    "    Notes\n",
    "    -----\n",
    "    This function assumes that the file contains metadata fields `[Sample Information]`\n",
    "    followed by `[Original Files]`. If either `[Sample Information]` or `[Original Files]`\n",
    "    fields are missing or have other names, a ValueError exception is thrown. \n",
    "\n",
    "    Raises\n",
    "    ------\n",
    "    TypeError\n",
    "        Raised if file is not of type `str`\n",
    "    ValueError:\n",
    "        Raised if `[Sample Information]`, `[Original Files]`, `\\\\n`, or delimiter\n",
    "        is not present in file\n",
    "    \"\"\"\n",
    "    # Make sure the 'file' provided is a string and has necessary fields. \n",
    "    if type(file) != str:\n",
    "        raise TypeError(f'Argument `file` must be a string. type {type(file)} was provided.')\n",
    "    if '\\n' not in file:\n",
    "        raise ValueError(f'Newline characters (`\\\\n`) are not in file, but must be for proper parsing.')\n",
    "    if ('[Sample Information]' not in file) | ('[Original Files]' not in file):\n",
    "        raise ValueError('`[Sample Information]` or `[Original Files]` field is missing.')\n",
    "    if delimiter not in file:\n",
    "        raise ValueError(f'Delimiter {f} not present in the file.')\n",
    "\n",
    "    # Get the sample information and split by newline\n",
    "    metadata = file.split('[Sample Information]\\n')[1].split('[Original Files]\\n')[0]\n",
    "    \n",
    "    # Set up the dictionary and loop through lines\n",
    "    metadata_dict = {}\n",
    "    for line in metadata.split('\\n'):\n",
    "\n",
    "        # Split by the delimiter.\n",
    "        entry = line.split(delimiter)\n",
    "        \n",
    "        # Add the entry to the dictionary if longer than 1 and does not \n",
    "        # contain ISTD Amount.\n",
    "        if (len(entry) > 1) & ('ISTD' not in entry[0]):\n",
    "            metadata_dict[entry[0]] = entry[1]\n",
    "    return metadata_dict"
   ]
  },
  {
   "cell_type": "code",
   "execution_count": 35,
   "metadata": {},
   "outputs": [
    {
     "output_type": "execute_result",
     "data": {
      "text/plain": [
       "{'Operator Name': 'System Administrator',\n",
       " 'Acquired': '3/18/2021 6:17:01 PM',\n",
       " 'Sample Type': '1:Standard',\n",
       " 'Level': '1',\n",
       " 'Sample Name': '2021-03-18_MgSO4',\n",
       " 'Sample ID': '001',\n",
       " 'Sample Amount': '1',\n",
       " 'Dilution Factor': '1',\n",
       " 'Vial#': '22',\n",
       " 'Injection Volume': '20'}"
      ]
     },
     "metadata": {},
     "execution_count": 35
    }
   ],
   "source": [
    "metadata_dict = scrape_metadata(raw_file)\n",
    "metadata_dict"
   ]
  },
  {
   "cell_type": "code",
   "execution_count": null,
   "metadata": {},
   "outputs": [],
   "source": [
    "def scrape_chromatogram(file, detector='B', delimiter=',', metadata=True):\n",
    "    \"\"\"\n",
    "    Scrapes the chromatogram for a given detector from a Shimadzu HPLC\n",
    "    ASCII output.\n",
    "\n",
    "    Parameters\n",
    "    ----------\n",
    "    file : str \n",
    "        The contents of the file as a string with newline characters (`\\n`) present. \n",
    "    detector: str, 'A' or 'B'\n",
    "        The name of the detector in the file. Default is `B`. Note that only that only \n",
    "        'A' or 'B' is an acceptable input and not the complete detector name such as \n",
    "        'LC Chromatogram(Detector B-Ch1)'.\n",
    "    delimiter: str \n",
    "        The delimeter used in the file. If  tab-delimited, use `\\t`.\n",
    "    metadata : bool\n",
    "        If `true`, a dictionary with the metadata about the detector is returned. \n",
    "        Default is True. \n",
    "\n",
    "    Returns\n",
    "    -------\n",
    "    chrom : pandas DataFrame\n",
    "        A tidy pandas DataFrame with two columns -- `time_minutes` and `intensity_mV`\n",
    "    metadata_dict : dictionary\n",
    "        A dictionary of the metadata associated with the desired detector channel.\n",
    "        if `metadata` is not `True`, this is not returned. \n",
    "\n",
    "    Notes\n",
    "    -----\n",
    "    This function assumes that the detector name follows the convention \n",
    "    `[LC Chromatogram(Detector A/B-ChX]` where `A/B` is the detector label \n",
    "    and `X` is the channel number. \n",
    "\n",
    "    Raises\n",
    "    ------\n",
    "    TypeError\n",
    "        Raised if file, detctor, or delimiter is not of type `str`.\n",
    "    ValueError:\n",
    "        Raised if `[LC Chromatogram`, `\\\\n`, or delimiter is not present in file.\n",
    "        Also raised if `detector.uppercase()` is not `A` or `B`\n",
    "    \"\"\"\n",
    "    # Do type checks. \n",
    "    if type(file) is not str:\n",
    "        raise TypeError(f'Type of `file` must be `str`. Type {type(file)} was provided.')\n",
    "    if type(channel) is not str:\n",
    "        rasie"
   ]
  },
  {
   "cell_type": "code",
   "execution_count": 25,
   "metadata": {},
   "outputs": [
    {
     "output_type": "execute_result",
     "data": {
      "text/plain": [
       "{'Operator Name': 'System Administrator',\n",
       " 'Acquired': '3/18/2021 6:17:01 PM',\n",
       " 'Sample Type': '1:Standard',\n",
       " 'Level': '1',\n",
       " 'Sample Name': '2021-03-18_MgSO4',\n",
       " 'Sample ID': '001'}"
      ]
     },
     "metadata": {},
     "execution_count": 25
    }
   ],
   "source": [
    "metadata = raw_file.split('[Sample Information]')[1].split('ISTD')[0].split('\\n')\n",
    "metadata_dict = {}\n",
    "for line in metadata:\n",
    "    split = line.split(',')\n",
    "    if len(split) > 1:\n",
    "        metadata_dict[split[0]] = split[1]\n",
    "metadata_dict"
   ]
  },
  {
   "cell_type": "code",
   "execution_count": 41,
   "metadata": {},
   "outputs": [
    {
     "output_type": "execute_result",
     "data": {
      "text/plain": [
       "['Interval(msec),500',\n",
       " '# of Points,5401',\n",
       " 'Start Time(min),0.000',\n",
       " 'End Time(min),45.000',\n",
       " 'Intensity Units,mV',\n",
       " 'Intensity Multiplier,0.001']"
      ]
     },
     "metadata": {},
     "execution_count": 41
    }
   ],
   "source": [
    "detector='B'\n",
    "delimiter =','\n",
    "chrom = '\\n'.join(raw_file.split(f'[LC Chromatogram(Detector {detector.upper()}-Ch')[1].split('\\n')[1:-2])\n",
    "out = pd.read_csv(StringIO(chrom), skiprows=6)\n",
    "chrom.split('\\n')[:6]"
   ]
  },
  {
   "cell_type": "code",
   "execution_count": 23,
   "metadata": {},
   "outputs": [
    {
     "output_type": "execute_result",
     "data": {
      "text/plain": [
       "['',\n",
       " 'Operator Name,System Administrator',\n",
       " 'Acquired,3/18/2021 6:17:01 PM',\n",
       " 'Sample Type,1:Standard',\n",
       " 'Level,1',\n",
       " 'Sample Name,2021-03-18_MgSO4',\n",
       " 'Sample ID,001',\n",
       " '']"
      ]
     },
     "metadata": {},
     "execution_count": 23
    }
   ],
   "source": [
    "metadata"
   ]
  },
  {
   "cell_type": "code",
   "execution_count": null,
   "metadata": {},
   "outputs": [],
   "source": []
  }
 ]
}